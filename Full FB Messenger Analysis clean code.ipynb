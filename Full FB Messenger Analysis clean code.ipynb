{
 "cells": [
  {
   "cell_type": "code",
   "execution_count": 2,
   "id": "3aadd297",
   "metadata": {},
   "outputs": [],
   "source": [
    "#importing packages\n",
    "import numpy as np\n",
    "import pandas as pd \n",
    "import matplotlib.pyplot as plt\n",
    "import seaborn as sns\n",
    "\n",
    "import plotly.express as px\n",
    "import plotly.graph_objects as go\n",
    "from plotly.subplots import make_subplots\n",
    "import matplotlib.pyplot as plt"
   ]
  },
  {
   "cell_type": "code",
   "execution_count": 3,
   "id": "e9e0afad",
   "metadata": {},
   "outputs": [],
   "source": [
    "messenger_df = pd.read_csv('/Users/seb_coding/Documents/Facebook dataframes/Complete_Facebook_messages.csv', header=None, names=['Date', 'Sender', 'Message', 'Chat', 'Message_type', 'Status', 'Participants'])\n",
    "messenger_df.head()"
   ]
  },
  {
   "cell_type": "code",
   "execution_count": 4,
   "id": "b5d8909f",
   "metadata": {},
   "outputs": [],
   "source": [
    "#by setting the data types to category the df size is reduced\n",
    "dtypes = {'Message_type':'category', 'Sender':'category', 'Chat':'category', 'Status':'category', 'Participants':'category'} #reducing memory usage of dataframe"
   ]
  },
  {
   "cell_type": "code",
   "execution_count": 5,
   "id": "b3039707",
   "metadata": {},
   "outputs": [
    {
     "name": "stderr",
     "output_type": "stream",
     "text": [
      "<ipython-input-5-87bea5984661>:5: FutureWarning: The default value of regex will change from True to False in a future version.\n",
      "  messenger_df['Chat'] = messenger_df['Chat'].str.replace(clean_chat_name_regex, '')\n"
     ]
    }
   ],
   "source": [
    "#removing ID's from Chat name\n",
    "\n",
    "clean_chat_name_regex = r\"_.+$\"\n",
    "\n",
    "messenger_df['Chat'] = messenger_df['Chat'].str.replace(clean_chat_name_regex, '')"
   ]
  },
  {
   "cell_type": "code",
   "execution_count": 6,
   "id": "ab9a565d",
   "metadata": {},
   "outputs": [],
   "source": [
    "#creating new column defining the chat type as a group chat or personal chat\n",
    "messenger_df['Chat_type'] = np.where(messenger_df['Participants'] == 2, 'Personal_Chat', 'Group_Chat')\n",
    "messenger_df.head()"
   ]
  },
  {
   "cell_type": "code",
   "execution_count": 7,
   "id": "7774e57d",
   "metadata": {},
   "outputs": [],
   "source": [
    "#number of people I have chatted with\n",
    "print(messenger_df.Sender.nunique())\n",
    "\n",
    "#number of chats that I have been in\n",
    "print(messenger_df.Chat.nunique())"
   ]
  },
  {
   "cell_type": "code",
   "execution_count": 9,
   "id": "4246104a",
   "metadata": {},
   "outputs": [],
   "source": [
    "#number of messages sent in group chat vs personal chat\n",
    "Groupchat_count_df = messenger_df.groupby(['Chat_type']).size().reset_index(name='Counts')"
   ]
  },
  {
   "cell_type": "code",
   "execution_count": 10,
   "id": "085ac5be",
   "metadata": {},
   "outputs": [],
   "source": [
    "#Number of group chats and personal chats\n",
    "\n",
    "Groupchat_count_df2 = messenger_df[['Chat', 'Participants', 'Chat_type']]\n",
    "Groupchat_count_df3 = Groupchat_count_df2.drop_duplicates()\n",
    "Groupchat_count_df3.sort_values('Chat')\n",
    "Groupchat_count_df4 = Groupchat_count_df3.groupby(['Chat_type']).size().reset_index(name='Counts')\n",
    "Groupchat_count_df5 = pd.merge(Groupchat_count_df, Groupchat_count_df4, on='Chat_type')\n",
    "Groupchat_count_df5.head()"
   ]
  },
  {
   "cell_type": "code",
   "execution_count": null,
   "id": "5f90f098",
   "metadata": {},
   "outputs": [],
   "source": [
    "# Create subplots: use 'domain' type for Pie subplot\n",
    "labels = [\"Group_Chat\", \"Personal_Chat\"]\n",
    "\n",
    "facebook_colors = ['rgb(47, 71, 122)', 'rgb(78, 113, 186)']\n",
    "\n",
    "fig = make_subplots(rows=1, cols=2, specs=[[{'type':'domain'}, {'type':'domain'}]])\n",
    "fig.add_trace(go.Pie(labels=labels, values= Groupchat_count_df5.Counts_x, name=\"number of chats\", marker_colors=facebook_colors),\n",
    "              1, 1)\n",
    "fig.add_trace(go.Pie(labels=labels, values= Groupchat_count_df5.Counts_y, name=\"Messages sent\", marker_colors=facebook_colors),\n",
    "              1, 2)\n",
    "\n",
    "    \n",
    "# Use `hole` to create a donut-like pie chart\n",
    "fig.update_traces(hole=.4, hoverinfo=\"label+percent+name\")\n",
    "\n",
    "fig.update_layout(\n",
    "    title_text=\"Do I have more group chats or personal chats?\",\n",
    "    # Add annotations in the center of the donut pies.\n",
    "    annotations=[dict(text='Number of Chats', x=0.135, y=0.5, font_size=15, showarrow=False),\n",
    "                 dict(text='Messages sent', x=0.85, y=0.5, font_size=15, showarrow=False)])\n",
    "fig.show()"
   ]
  },
  {
   "cell_type": "code",
   "execution_count": null,
   "id": "17eb45ca",
   "metadata": {},
   "outputs": [],
   "source": [
    "# the number of group chats and participants \n",
    "Groupchat_count_by_participants_df = Groupchat_count_df3[Groupchat_count_df3['Participants'] > 2]\n",
    "Groupchat_count_by_participants_df2 = Groupchat_count_by_participants_df.groupby(['Participants']).size().reset_index(name='Counts')\n",
    "fig = px.bar(Groupchat_count_by_participants_df2, x=\"Participants\", y=\"Counts\", color = 'Counts', color_continuous_scale='ice')\n",
    "fig.update_layout(xaxis_categoryorder = 'total descending', title = 'How many participants are there in my group chats?')\n",
    "fig.show();"
   ]
  },
  {
   "cell_type": "markdown",
   "id": "4367bcf4",
   "metadata": {},
   "source": [
    "## Top 10 chats"
   ]
  },
  {
   "cell_type": "code",
   "execution_count": null,
   "id": "0ad7ca5e",
   "metadata": {},
   "outputs": [],
   "source": [
    "top10_chats_df = messenger_df.groupby(['Chat', 'Chat_type']).size().reset_index(name='Counts')\n",
    "top10_chats_df = top10_chats_df.sort_values('Counts', ascending = False).head(10)\n",
    "top10_chats_df['Chat'] = top10_chats_df['Chat'].\\\n",
    "# If you want to annonymize some names use the following lines of code\n",
    "#replace(['name1','name2', ...],['anonymized name 1','anonymized name 2', ...])\n",
    "top10_chats_df"
   ]
  },
  {
   "cell_type": "code",
   "execution_count": null,
   "id": "54876a4f",
   "metadata": {},
   "outputs": [],
   "source": [
    "fig = px.bar(top10_chats_df, x=\"Chat\", y=\"Counts\", color = \"Chat_type\", color_discrete_map={\n",
    "        'Group_Chat': 'rgb(47, 71, 122)',\n",
    "        'Personal_Chat': 'rgb(78, 113, 186)'})\n",
    "fig.update_layout(xaxis_categoryorder = 'total descending', title = 'What were my most popular chats?')\n",
    "fig.show();"
   ]
  },
  {
   "cell_type": "code",
   "execution_count": 13,
   "id": "f88b0938",
   "metadata": {},
   "outputs": [],
   "source": [
    "BBB_df = messenger_df[messenger_df['Chat'] == 'bbbandsbb']\n",
    "BBB_df.head()"
   ]
  },
  {
   "cell_type": "code",
   "execution_count": null,
   "id": "4d0b17f0",
   "metadata": {},
   "outputs": [],
   "source": [
    "BBB_counts_df = BBB_df.groupby(['Sender']).size().reset_index(name='Counts').sort_values('Counts', ascending = False)\n",
    "\n",
    "# If you want to annonymize some names use the following lines of code\n",
    "\n",
    "#BBB_counts_df['Sender'] = BBB_counts_df['Sender'].replace(['name1','name2', ...],['anonymized name 1','anonymized name 2', ...])\n",
    "\n",
    "fig = px.bar(BBB_counts_df, x=\"Sender\", y=\"Counts\", color = 'Sender', color_discrete_map={\n",
    "        'Joe': 'rgb(47, 71, 122)',\n",
    "        'Anna': 'rgb(78, 113, 186)',\n",
    "        'me': 'rgb(70,130,180)',\n",
    "        'Josephine': 'rgb(135,206,235)',\n",
    "        'Charly': 'rgb(135,206,250)',\n",
    "        })\n",
    "fig.update_layout(xaxis_categoryorder = 'total descending', title = 'Who is the most active in my most active group chat?')\n",
    "fig.show();"
   ]
  },
  {
   "cell_type": "markdown",
   "id": "ed661dab",
   "metadata": {},
   "source": [
    "# Messages over time"
   ]
  },
  {
   "cell_type": "code",
   "execution_count": 14,
   "id": "99134535",
   "metadata": {},
   "outputs": [],
   "source": [
    "messenger_df['date_time'] = messenger_df['Date']\n",
    "messenger_df.date_time = pd.to_datetime(messenger_df.date_time)\n",
    "messenger_df[\"quarter\"]  = messenger_df.date_time.dt.quarter\n",
    "messenger_df[\"year\"]  = messenger_df.date_time.dt.year\n",
    "messenger_df['year_quarter'] = messenger_df[\"year\"].astype(str) + \".\" + messenger_df[\"quarter\"].astype(str)\n",
    "\n",
    "messenger_df.head()"
   ]
  },
  {
   "cell_type": "code",
   "execution_count": 15,
   "id": "6517f5ee",
   "metadata": {},
   "outputs": [],
   "source": [
    "messenger_count_df = messenger_df.groupby(['year', 'quarter']).size().reset_index(name='Counts')\n",
    "messenger_count_df['year_quarter'] = messenger_count_df[\"year\"].astype(str) + \".\" + messenger_count_df[\"quarter\"].astype(str)\n",
    "\n",
    "messenger_count_df2 = messenger_df.groupby(['year_quarter', 'Chat']).size().reset_index(name='Counts')"
   ]
  },
  {
   "cell_type": "code",
   "execution_count": 16,
   "id": "c5c5b8c8",
   "metadata": {},
   "outputs": [
    {
     "name": "stderr",
     "output_type": "stream",
     "text": [
      "/Users/seb_coding/opt/anaconda3/lib/python3.8/site-packages/pandas/core/indexing.py:1720: SettingWithCopyWarning:\n",
      "\n",
      "\n",
      "A value is trying to be set on a copy of a slice from a DataFrame.\n",
      "Try using .loc[row_indexer,col_indexer] = value instead\n",
      "\n",
      "See the caveats in the documentation: https://pandas.pydata.org/pandas-docs/stable/user_guide/indexing.html#returning-a-view-versus-a-copy\n",
      "\n"
     ]
    }
   ],
   "source": [
    "Messages_sent_by_me_df = messenger_df[messenger_df['Sender'] == 'add Sender Name']\n",
    "\n",
    "Messages_sent_by_me_df2 = Messages_sent_by_me_df.groupby(['year', 'Chat']).size().reset_index(name='Counts')\n",
    "Messages_sent_by_me_df3 = Messages_sent_by_me_df2[Messages_sent_by_me_df2.Counts > 1] \n",
    "Messages_sent_by_me_df3.loc[(Messages_sent_by_me_df3.Counts < 180),'Chat']='Others'\n",
    "Messages_sent_by_me_df3.head()"
   ]
  },
  {
   "cell_type": "code",
   "execution_count": null,
   "id": "a6a09b0b",
   "metadata": {},
   "outputs": [],
   "source": [
    "#Anonymizing names\n",
    "#Messages_sent_by_me_df3['Chat'] = Messages_sent_by_me_df3['Chat'].replace(['name1','name2', ...],['anonymized name 1','anonymized name 2', ...])\n",
    "\n",
    "#How many message did I send each year and who did I write with?\n",
    "fig = px.bar(Messages_sent_by_me_df3, x=\"year\", y=\"Counts\", color='Chat')\n",
    "fig.update_layout(xaxis_categoryorder = 'total descending', title = 'How many message did I send each year?')\n",
    "fig.show();"
   ]
  },
  {
   "cell_type": "markdown",
   "id": "2f05b0e6",
   "metadata": {},
   "source": [
    "# Most common times to write"
   ]
  },
  {
   "cell_type": "code",
   "execution_count": null,
   "id": "e77ff4f5",
   "metadata": {},
   "outputs": [],
   "source": [
    "## preparing the data for the heatmap\n",
    "\n",
    "#filtering for only messages sent by myself\n",
    "weekday_df = messenger_df[messenger_df['Sender'] == 'add Sender name']\n",
    "\n",
    "#transformting the date type to 'datetime'\n",
    "weekday_df['Date'] = pd.to_datetime(messenger_df['Date'])\n",
    "\n",
    "#selecting only the needed columns\n",
    "weekday_df = weekday_df[['Date', 'Sender', 'Message', 'Chat']]\n",
    "\n",
    "#creating the day of the week column 'Weekday'\n",
    "weekday_df['Weekday'] = weekday_df['Date'].dt.day_name()\n",
    "weekday_hour_df = weekday_df\n",
    "\n",
    "#creating the hour of the week column 'Hour'\n",
    "weekday_hour_df['Hour'] = weekday_hour_df['Date'].dt.hour\n",
    "\n",
    "#count the messages per day and hour\n",
    "heatmap_total_df = weekday_hour_df.groupby(['Weekday', 'Hour']).size().reset_index(name='Counts')\n",
    "\n",
    "#pivoting the table to match the heatmap\n",
    "heatmap_df = heatmap_total_df.pivot_table(index='Hour',columns='Weekday',values='Counts', aggfunc=lambda x:x)\n",
    "#ordering the days of the week\n",
    "heatmap_df = heatmap_df[['Monday', 'Tuesday', 'Wednesday', 'Thursday', 'Friday', 'Saturday', 'Sunday']]\n",
    "#set missing numbers to 0\n",
    "heatmap_df = heatmap_df.fillna(0)\n",
    "heatmap_df.head()"
   ]
  },
  {
   "cell_type": "code",
   "execution_count": null,
   "id": "00258d27",
   "metadata": {},
   "outputs": [],
   "source": [
    "#creating the heatmap figure\n",
    "\n",
    "fig = px.imshow(heatmap_df, zmin=0, color_continuous_scale='RdBu_r',\n",
    "               title=\"What are the most common times for texting?\")\n",
    "\n",
    "fig.update_layout(\n",
    "    yaxis = dict(\n",
    "        tickmode = 'linear',\n",
    "        tick0 = 1,\n",
    "        dtick = 1),\n",
    "    coloraxis_colorbar=dict(\n",
    "    title=\"Number of Messages\")\n",
    ")\n",
    "\n",
    "fig.show()"
   ]
  },
  {
   "cell_type": "markdown",
   "id": "07b56726",
   "metadata": {},
   "source": [
    "# Most common words"
   ]
  },
  {
   "cell_type": "code",
   "execution_count": 18,
   "id": "e9cbe64b",
   "metadata": {},
   "outputs": [],
   "source": [
    "from wordcloud import WordCloud, STOPWORDS, ImageColorGenerator\n",
    "from os import path\n",
    "from PIL import Image"
   ]
  },
  {
   "cell_type": "code",
   "execution_count": null,
   "id": "a6e46be6",
   "metadata": {},
   "outputs": [],
   "source": [
    "#filter for only message sent my myself\n",
    "my_common_words_df = messenger_df[messenger_df['Sender'] == 'add Sender Name']\n",
    "\n",
    "#converting all letters to lower case for more accurate word counts\n",
    "lower_case_my_common_words_df = my_common_words_df\n",
    "lower_case_my_common_words_df['Message'] = my_common_words_df['Message'].str.lower()\n",
    "#lower_case_my_common_words_df.head(5)"
   ]
  },
  {
   "cell_type": "code",
   "execution_count": null,
   "id": "4ff01bf6",
   "metadata": {
    "scrolled": false
   },
   "outputs": [],
   "source": [
    "#removing unwanted words from the word cloud\n",
    "banned2 = ['ð\\x9f\\x98', 'fuck', 'die', 'ð']\n",
    "f = lambda x: ' '.join([item for item in x.split() if item not in banned2])\n",
    "lower_case_my_common_words_df[\"Message\"] = lower_case_my_common_words_df[\"Message\"].apply(f)"
   ]
  },
  {
   "cell_type": "code",
   "execution_count": 26,
   "id": "047ebb1a",
   "metadata": {},
   "outputs": [],
   "source": [
    "#limiting the date range as spacey can only analyze data sets with less than 1.000.000 words\n",
    "lower_case_my_common_words_df2 = lower_case_my_common_words_df.loc[lower_case_my_common_words_df['Date'] >= '2020-06-03 20:33:51']\n",
    "text = \" \".join(review for review in lower_case_my_common_words_df2.Message)"
   ]
  },
  {
   "cell_type": "code",
   "execution_count": 27,
   "id": "8ca0499d",
   "metadata": {},
   "outputs": [],
   "source": [
    "import spacy\n",
    "from spacy.lang.en.examples import sentences \n",
    "from collections import Counter\n",
    "\n",
    "#text_file = open(\"common_words.txt\", \"w\")\n",
    "#n = text_file.write(text)\n",
    "#text_file.close()"
   ]
  },
  {
   "cell_type": "code",
   "execution_count": 28,
   "id": "ba5191ae",
   "metadata": {},
   "outputs": [],
   "source": [
    "nlp = spacy.load(\"en_core_web_sm\")\n",
    "\n",
    "doc = nlp(u\"displaCy uses JavaScript, SVG and CSS.\")\n",
    "\n",
    "from collections import Counter\n",
    "\n",
    "docx = nlp(open('common_words.txt').read())"
   ]
  },
  {
   "cell_type": "code",
   "execution_count": null,
   "id": "b18a3678",
   "metadata": {},
   "outputs": [],
   "source": [
    "docx"
   ]
  },
  {
   "cell_type": "code",
   "execution_count": null,
   "id": "66c27d40",
   "metadata": {},
   "outputs": [],
   "source": [
    "# Remove Punct,Stop \n",
    "# Nouns\n",
    "nouns = [ token.text for token in docx if token.is_stop != True and token.is_punct !=True and token.pos_ == 'NOUN']\n",
    "word_freq = Counter(nouns)\n",
    "common_nouns = word_freq.most_common(22)\n",
    "print(common_nouns)"
   ]
  },
  {
   "cell_type": "code",
   "execution_count": 32,
   "id": "2a6ff5de",
   "metadata": {},
   "outputs": [],
   "source": [
    "# function to convert list to string\n",
    "def dict_from_asslist(ass_list):\n",
    "    return_dict = {}\n",
    "    for (key, value) in ass_list:\n",
    "        return_dict[key] = value\n",
    "    return return_dict\n",
    "dict_from_asslist.__doc__ = \"Convert association list, i.e. [(x, y)] list of tuples of key and value, into a dict\""
   ]
  },
  {
   "cell_type": "code",
   "execution_count": null,
   "id": "255ea6f4",
   "metadata": {},
   "outputs": [],
   "source": [
    "# creating the wordcloud\n",
    "\n",
    "wordcloud = WordCloud(width = 1000, height = 500, background_color=\"white\").generate_from_frequencies(dict_from_asslist(common_nouns))\n",
    "\n",
    "plt.figure( figsize=(20,10))\n",
    "plt.imshow(wordcloud, interpolation='bilinear')\n",
    "plt.axis(\"off\")\n",
    "plt.tight_layout(pad=10)\n",
    "plt.show()"
   ]
  }
 ],
 "metadata": {
  "kernelspec": {
   "display_name": "Python 3",
   "language": "python",
   "name": "python3"
  },
  "language_info": {
   "codemirror_mode": {
    "name": "ipython",
    "version": 3
   },
   "file_extension": ".py",
   "mimetype": "text/x-python",
   "name": "python",
   "nbconvert_exporter": "python",
   "pygments_lexer": "ipython3",
   "version": "3.8.8"
  }
 },
 "nbformat": 4,
 "nbformat_minor": 5
}
