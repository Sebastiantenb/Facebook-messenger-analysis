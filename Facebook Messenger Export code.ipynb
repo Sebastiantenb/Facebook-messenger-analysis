{
 "cells": [
  {
   "cell_type": "markdown",
   "id": "9ecd5e19",
   "metadata": {},
   "source": [
    "# This code allows you to convert the facebook messenger export from Json files to a csv which you can easily analyze with Python or your program of choice\n",
    "\n",
    "## Note: this is an extended version of the code which June Tao Ching published in his article\n",
    "https://towardsdatascience.com/download-and-analyse-your-facebook-messenger-data-6d1b49404e09\n",
    "\n",
    "#### The original code allowed to extract the following data points from the facebook chat\n",
    "- date\n",
    "- sender\n",
    "- content"
   ]
  },
  {
   "cell_type": "markdown",
   "id": "a50d7afe",
   "metadata": {},
   "source": [
    "#### This code has been extended to retreive the following data points from the facebook chat\n",
    "- chat \n",
    "- message_type\n",
    "- status\n",
    "- participants"
   ]
  },
  {
   "cell_type": "code",
   "execution_count": 10,
   "id": "9b08c3d5",
   "metadata": {},
   "outputs": [],
   "source": [
    "import pandas as pd\n",
    "import os\n",
    "import json\n",
    "import datetime\n",
    "from tqdm import tqdm\n",
    "import csv\n",
    "from datetime import datetime "
   ]
  },
  {
   "cell_type": "code",
   "execution_count": 2,
   "id": "9565ecbe",
   "metadata": {},
   "outputs": [],
   "source": [
    "directory = \"/Users/seb_coding/Documents/Full facebook data/Facebook Messages\"\n",
    "folders = os.listdir(directory)"
   ]
  },
  {
   "cell_type": "code",
   "execution_count": 3,
   "id": "9d903d60",
   "metadata": {},
   "outputs": [],
   "source": [
    "if \".DS_Store\" in folders:\n",
    "    folders.remove(\".DS_Store\")"
   ]
  },
  {
   "cell_type": "code",
   "execution_count": 4,
   "id": "7aa204de",
   "metadata": {},
   "outputs": [],
   "source": [
    "for folder in tqdm(folders):\n",
    "    print(folder)\n",
    "    for filename in os.listdir(os.path.join(directory,folder)):\n",
    "        if filename.startswith(\"message\"):\n",
    "            data = json.load(open(os.path.join(directory,folder,filename), \"r\"))\n",
    "            for message in data[\"messages\"]:\n",
    "                try:\n",
    "                    date = datetime.fromtimestamp(message[\"timestamp_ms\"] / 1000).strftime(\"%Y-%m-%d %H:%M:%S\")\n",
    "                    sender = message[\"sender_name\"]\n",
    "                    content = message[\"content\"]\n",
    "                    chat = folder \n",
    "                    message_type = message[\"type\"]\n",
    "                    status = message[\"is_unsent\"]\n",
    "                    participants = len(data[\"participants\"])\n",
    "                    with open(\"Complete_Facebook_messages.csv\", 'a') as csv_file:\n",
    "                        writer = csv.writer(csv_file)\n",
    "                        writer.writerow([date,sender,content, chat, message_type, status, participants])\n",
    "\n",
    "                except KeyError:\n",
    "                    pass"
   ]
  },
  {
   "cell_type": "code",
   "execution_count": 11,
   "id": "0f822c7e",
   "metadata": {},
   "outputs": [],
   "source": [
    "messages_df = pd.read_csv('/Users/seb_coding/Documents/Facebook dataframes/Complete_Facebook_messages.csv', header=None, names=['Date', 'Sender', 'Message', 'Chat', 'Message_type', 'Status', 'Participants'])\n",
    "messages_df.head()"
   ]
  }
 ],
 "metadata": {
  "kernelspec": {
   "display_name": "Python 3",
   "language": "python",
   "name": "python3"
  },
  "language_info": {
   "codemirror_mode": {
    "name": "ipython",
    "version": 3
   },
   "file_extension": ".py",
   "mimetype": "text/x-python",
   "name": "python",
   "nbconvert_exporter": "python",
   "pygments_lexer": "ipython3",
   "version": "3.8.8"
  }
 },
 "nbformat": 4,
 "nbformat_minor": 5
}
